{
 "cells": [
  {
   "cell_type": "code",
   "execution_count": 59,
   "id": "98f5b738",
   "metadata": {},
   "outputs": [],
   "source": [
    "import numpy as np\n",
    "import pandas as pd\n",
    "\n",
    "import matplotlib.pyplot as plt\n",
    "import seaborn as sns"
   ]
  },
  {
   "cell_type": "code",
   "execution_count": 37,
   "id": "ddfefc1f",
   "metadata": {},
   "outputs": [],
   "source": [
    "def get_lower_and_upper_bounds(series, k=1.5):\n",
    "    ''' \n",
    "    return a list of values that are above the upper and below the lower bounds\n",
    "    based on the passed multiplier k\n",
    "    '''\n",
    "    # get quartiles\n",
    "    q1 = series.describe()[4]\n",
    "    q3 = series.describe()[6]\n",
    "    iqr = q3 - q1   # calculate interquartile range\n",
    "\n",
    "    upper_bound = q3 + k * iqr   # get upper bound\n",
    "    lower_bound = q1 - k * iqr   # get lower bound\n",
    "#     print(f'lower bound: {lower_bound}')\n",
    "    # return the values above upper and below lower bounds\n",
    "    upper = series[(series > upper_bound)]\n",
    "    lower = series[(series < lower_bound)]\n",
    "#     print(f'{lower}')\n",
    "    return upper, lower"
   ]
  },
  {
   "cell_type": "markdown",
   "id": "5200d505",
   "metadata": {},
   "source": [
    "# Part 1\n",
    "Using lemonade.csv dataset and focusing on continuous variables:"
   ]
  },
  {
   "cell_type": "code",
   "execution_count": 3,
   "id": "f3bdddf4",
   "metadata": {},
   "outputs": [],
   "source": [
    "lemonade = pd.read_csv('lemonade.csv')"
   ]
  },
  {
   "cell_type": "code",
   "execution_count": 4,
   "id": "a5caf54a",
   "metadata": {},
   "outputs": [
    {
     "data": {
      "text/html": [
       "<div>\n",
       "<style scoped>\n",
       "    .dataframe tbody tr th:only-of-type {\n",
       "        vertical-align: middle;\n",
       "    }\n",
       "\n",
       "    .dataframe tbody tr th {\n",
       "        vertical-align: top;\n",
       "    }\n",
       "\n",
       "    .dataframe thead th {\n",
       "        text-align: right;\n",
       "    }\n",
       "</style>\n",
       "<table border=\"1\" class=\"dataframe\">\n",
       "  <thead>\n",
       "    <tr style=\"text-align: right;\">\n",
       "      <th></th>\n",
       "      <th>Date</th>\n",
       "      <th>Day</th>\n",
       "      <th>Temperature</th>\n",
       "      <th>Rainfall</th>\n",
       "      <th>Flyers</th>\n",
       "      <th>Price</th>\n",
       "      <th>Sales</th>\n",
       "    </tr>\n",
       "  </thead>\n",
       "  <tbody>\n",
       "    <tr>\n",
       "      <th>0</th>\n",
       "      <td>1/1/17</td>\n",
       "      <td>Sunday</td>\n",
       "      <td>27.0</td>\n",
       "      <td>2.00</td>\n",
       "      <td>15</td>\n",
       "      <td>0.5</td>\n",
       "      <td>10</td>\n",
       "    </tr>\n",
       "    <tr>\n",
       "      <th>1</th>\n",
       "      <td>1/2/17</td>\n",
       "      <td>Monday</td>\n",
       "      <td>28.9</td>\n",
       "      <td>1.33</td>\n",
       "      <td>15</td>\n",
       "      <td>0.5</td>\n",
       "      <td>13</td>\n",
       "    </tr>\n",
       "    <tr>\n",
       "      <th>2</th>\n",
       "      <td>1/3/17</td>\n",
       "      <td>Tuesday</td>\n",
       "      <td>34.5</td>\n",
       "      <td>1.33</td>\n",
       "      <td>27</td>\n",
       "      <td>0.5</td>\n",
       "      <td>15</td>\n",
       "    </tr>\n",
       "    <tr>\n",
       "      <th>3</th>\n",
       "      <td>1/4/17</td>\n",
       "      <td>Wednesday</td>\n",
       "      <td>44.1</td>\n",
       "      <td>1.05</td>\n",
       "      <td>28</td>\n",
       "      <td>0.5</td>\n",
       "      <td>17</td>\n",
       "    </tr>\n",
       "    <tr>\n",
       "      <th>4</th>\n",
       "      <td>1/5/17</td>\n",
       "      <td>Thursday</td>\n",
       "      <td>42.4</td>\n",
       "      <td>1.00</td>\n",
       "      <td>33</td>\n",
       "      <td>0.5</td>\n",
       "      <td>18</td>\n",
       "    </tr>\n",
       "  </tbody>\n",
       "</table>\n",
       "</div>"
      ],
      "text/plain": [
       "     Date        Day  Temperature  Rainfall  Flyers  Price  Sales\n",
       "0  1/1/17     Sunday         27.0      2.00      15    0.5     10\n",
       "1  1/2/17     Monday         28.9      1.33      15    0.5     13\n",
       "2  1/3/17    Tuesday         34.5      1.33      27    0.5     15\n",
       "3  1/4/17  Wednesday         44.1      1.05      28    0.5     17\n",
       "4  1/5/17   Thursday         42.4      1.00      33    0.5     18"
      ]
     },
     "execution_count": 4,
     "metadata": {},
     "output_type": "execute_result"
    }
   ],
   "source": [
    "lemonade.head()"
   ]
  },
  {
   "cell_type": "code",
   "execution_count": 53,
   "id": "f8ae770e",
   "metadata": {},
   "outputs": [
    {
     "data": {
      "text/plain": [
       "(365, 7)"
      ]
     },
     "execution_count": 53,
     "metadata": {},
     "output_type": "execute_result"
    }
   ],
   "source": [
    "lemonade.shape"
   ]
  },
  {
   "cell_type": "code",
   "execution_count": 5,
   "id": "e01ebd99",
   "metadata": {},
   "outputs": [
    {
     "data": {
      "text/plain": [
       "['Date', 'Day', 'Temperature', 'Rainfall', 'Flyers', 'Price', 'Sales']"
      ]
     },
     "execution_count": 5,
     "metadata": {},
     "output_type": "execute_result"
    }
   ],
   "source": [
    "lemonade.columns.to_list()"
   ]
  },
  {
   "cell_type": "markdown",
   "id": "c557fffc",
   "metadata": {},
   "source": [
    "### 1. Use the IQR Range Rule and the upper and lower bounds to identify the lower outliers of each column of lemonade.csv, using the multiplier of 1.5. Do these lower outliers make sense? Which outliers should be kept?"
   ]
  },
  {
   "cell_type": "code",
   "execution_count": 6,
   "id": "ce9347c2",
   "metadata": {},
   "outputs": [],
   "source": [
    "num_cols = ['Temperature', 'Rainfall', 'Flyers', 'Price', 'Sales']"
   ]
  },
  {
   "cell_type": "code",
   "execution_count": 51,
   "id": "4f31fcb5",
   "metadata": {},
   "outputs": [
    {
     "name": "stdout",
     "output_type": "stream",
     "text": [
      "lower outliers for column: Temperature\n",
      "364    15.1\n",
      "Name: Temperature, dtype: float64\n",
      "\n",
      "lower outliers for column: Flyers\n",
      "324   -38\n",
      "Name: Flyers, dtype: int64\n",
      "\n"
     ]
    }
   ],
   "source": [
    "for col in lemonade[num_cols]:\n",
    "    _, lower_1_5 = get_lower_and_upper_bounds(lemonade[col])\n",
    "    if len(lower_1_5):\n",
    "        print(f'lower outliers for column: {col}')\n",
    "        print(f'{lower_1_5}\\n')"
   ]
  },
  {
   "cell_type": "markdown",
   "id": "13184b62",
   "metadata": {},
   "source": [
    "#### The temperature outlier is fine to keep, but a -38 flyers doesn't make sense, so we can remove that"
   ]
  },
  {
   "cell_type": "markdown",
   "id": "e1ac91c8",
   "metadata": {},
   "source": [
    "### 2.Use the IQR Range Rule and the upper and upper bounds to identify the upper outliers of each column of lemonade.csv, using the multiplier of 1.5. Do these upper outliers make sense? Which outliers should be kept?"
   ]
  },
  {
   "cell_type": "code",
   "execution_count": 50,
   "id": "075cf68d",
   "metadata": {},
   "outputs": [
    {
     "name": "stdout",
     "output_type": "stream",
     "text": [
      "high outliers for column: Temperature\n",
      "41    212.0\n",
      "Name: Temperature, dtype: float64\n",
      "\n",
      "high outliers for column: Rainfall\n",
      "0      2.00\n",
      "1      1.33\n",
      "2      1.33\n",
      "5      1.54\n",
      "6      1.54\n",
      "10     1.54\n",
      "11     1.33\n",
      "12     1.33\n",
      "15     1.67\n",
      "16     1.43\n",
      "19     1.43\n",
      "23     1.54\n",
      "27     1.33\n",
      "28     1.33\n",
      "337    1.54\n",
      "338    1.82\n",
      "342    1.43\n",
      "343    1.82\n",
      "345    1.33\n",
      "346    1.43\n",
      "347    1.54\n",
      "350    1.33\n",
      "351    1.43\n",
      "354    1.33\n",
      "355    1.54\n",
      "359    1.43\n",
      "363    1.43\n",
      "364    2.50\n",
      "Name: Rainfall, dtype: float64\n",
      "\n",
      "high outliers for column: Flyers\n",
      "166    77\n",
      "194    80\n",
      "Name: Flyers, dtype: int64\n",
      "\n",
      "high outliers for column: Sales\n",
      "181    143\n",
      "182    158\n",
      "183    235\n",
      "184    534\n",
      "Name: Sales, dtype: int64\n",
      "\n"
     ]
    }
   ],
   "source": [
    "for col in lemonade[num_cols]:\n",
    "    upper_1_5, lower_1_5 = get_lower_and_upper_bounds(lemonade[col])\n",
    "    if len(upper_1_5):\n",
    "        print(f'high outliers for column: {col}')\n",
    "        print(f'{upper_1_5}\\n')"
   ]
  },
  {
   "cell_type": "code",
   "execution_count": 57,
   "id": "b54e3fce",
   "metadata": {},
   "outputs": [
    {
     "data": {
      "text/plain": [
       "27.865753424657534"
      ]
     },
     "execution_count": 57,
     "metadata": {},
     "output_type": "execute_result"
    }
   ],
   "source": [
    "lemonade.Sales.mean()"
   ]
  },
  {
   "cell_type": "code",
   "execution_count": 58,
   "id": "99692a66",
   "metadata": {},
   "outputs": [
    {
     "data": {
      "text/plain": [
       "30.948131985639645"
      ]
     },
     "execution_count": 58,
     "metadata": {},
     "output_type": "execute_result"
    }
   ],
   "source": [
    "lemonade.Sales.std()"
   ]
  },
  {
   "cell_type": "markdown",
   "id": "c44acc7f",
   "metadata": {},
   "source": [
    "#### Temp outlier of 212 degrees should be removed, rainfall outliers seem fine, flyers outliers seem fine. The sales outliers are all very far from the mean, which seems odd."
   ]
  },
  {
   "cell_type": "markdown",
   "id": "91952217",
   "metadata": {},
   "source": [
    "### 3. Using the multiplier of 3, IQR Range Rule, and the lower bounds, identify the outliers below the lower bound in each colum of lemonade.csv. Do these lower outliers make sense? Which outliers should be kept?"
   ]
  },
  {
   "cell_type": "code",
   "execution_count": 55,
   "id": "9b8c28f3",
   "metadata": {},
   "outputs": [
    {
     "name": "stdout",
     "output_type": "stream",
     "text": [
      "lower outliers for column: Flyers\n",
      "324   -38\n",
      "Name: Flyers, dtype: int64\n",
      "\n"
     ]
    }
   ],
   "source": [
    "for col in lemonade[num_cols]:\n",
    "    _, lower_3 = get_lower_and_upper_bounds(lemonade[col], k=3)\n",
    "    if len(lower_3):\n",
    "        print(f'lower outliers for column: {col}')\n",
    "        print(f'{lower_3}\\n')"
   ]
  },
  {
   "cell_type": "markdown",
   "id": "c75764f6",
   "metadata": {},
   "source": [
    "#### The low outlier on flyers of -38 still doesn't make sense so we shoud remove it"
   ]
  },
  {
   "cell_type": "code",
   "execution_count": 56,
   "id": "8a58a104",
   "metadata": {},
   "outputs": [
    {
     "name": "stdout",
     "output_type": "stream",
     "text": [
      "high outliers for column: Temperature\n",
      "41    212.0\n",
      "Name: Temperature, dtype: float64\n",
      "\n",
      "high outliers for column: Rainfall\n",
      "0      2.00\n",
      "338    1.82\n",
      "343    1.82\n",
      "364    2.50\n",
      "Name: Rainfall, dtype: float64\n",
      "\n",
      "high outliers for column: Sales\n",
      "181    143\n",
      "182    158\n",
      "183    235\n",
      "184    534\n",
      "Name: Sales, dtype: int64\n",
      "\n"
     ]
    }
   ],
   "source": [
    "for col in lemonade[num_cols]:\n",
    "    upper_3, _ = get_lower_and_upper_bounds(lemonade[col], k=3)\n",
    "    if len(upper_3):\n",
    "        print(f'high outliers for column: {col}')\n",
    "        print(f'{upper_3}\\n')"
   ]
  },
  {
   "cell_type": "markdown",
   "id": "61204fd9",
   "metadata": {},
   "source": [
    "#### The rainfall outlier seems plausable, but the temperature and sales outliers seem too odd to keep."
   ]
  },
  {
   "cell_type": "markdown",
   "id": "fc3574ea",
   "metadata": {},
   "source": [
    "# Part 2\n",
    "Identify if any columns in lemonade.csv are normally distributed. For normally distributed columns:"
   ]
  },
  {
   "cell_type": "code",
   "execution_count": 62,
   "id": "0a85bb0a",
   "metadata": {},
   "outputs": [
    {
     "data": {
      "image/png": "[encoded data removed]",
      "text/plain": [
       "<Figure size 640x480 with 1 Axes>"
      ]
     },
     "metadata": {},
     "output_type": "display_data"
    },
    {
     "data": {
      "image/png": "[encoded data removed]",
      "text/plain": [
       "<Figure size 640x480 with 1 Axes>"
      ]
     },
     "metadata": {},
     "output_type": "display_data"
    },
    {
     "data": {
      "image/png": "[encoded data removed]",
      "text/plain": [
       "<Figure size 640x480 with 1 Axes>"
      ]
     },
     "metadata": {},
     "output_type": "display_data"
    },
    {
     "data": {
      "image/png": "[encoded data removed]",
      "text/plain": [
       "<Figure size 640x480 with 1 Axes>"
      ]
     },
     "metadata": {},
     "output_type": "display_data"
    },
    {
     "data": {
      "image/png": "[encoded data removed]",
      "text/plain": [
       "<Figure size 640x480 with 1 Axes>"
      ]
     },
     "metadata": {},
     "output_type": "display_data"
    }
   ],
   "source": [
    "for col in lemonade[num_cols]:\n",
    "    sns.histplot(lemonade[col])\n",
    "    plt.title(f'Dist of {col}')\n",
    "    plt.show()"
   ]
  },
  {
   "cell_type": "markdown",
   "id": "6fac9a0e",
   "metadata": {},
   "source": [
    "#### Temperature and flyers appear normal without the outliers, sales might also be normal without the outliers. price is constant, and rainfall appears right skewed"
   ]
  },
  {
   "cell_type": "code",
   "execution_count": 63,
   "id": "2da36934",
   "metadata": {},
   "outputs": [
    {
     "data": {
      "text/plain": [
       "count    365.000000\n",
       "mean      61.224658\n",
       "std       18.085892\n",
       "min       15.100000\n",
       "25%       49.700000\n",
       "50%       61.100000\n",
       "75%       71.700000\n",
       "max      212.000000\n",
       "Name: Temperature, dtype: float64"
      ]
     },
     "execution_count": 63,
     "metadata": {},
     "output_type": "execute_result"
    }
   ],
   "source": [
    "lemonade.Temperature.describe()"
   ]
  },
  {
   "cell_type": "code",
   "execution_count": 64,
   "id": "a7e8f2f9",
   "metadata": {},
   "outputs": [],
   "source": [
    "def get_lower_and_upper_bounds_std(series, k=2):\n",
    "    ''' \n",
    "    return a list of values that are above the upper and below the lower bounds\n",
    "    based on the passed multiplier k\n",
    "    '''\n",
    "    # get quartiles\n",
    "    mean = series.describe()[1]\n",
    "    std = series.describe()[2]\n",
    "\n",
    "    upper_bound = mean + k * std   # get upper bound\n",
    "    lower_bound = mean - k * std   # get lower bound\n",
    "#     print(f'lower bound: {lower_bound}')\n",
    "    # return the values above upper and below lower bounds\n",
    "    upper = series[(series > upper_bound)]\n",
    "    lower = series[(series < lower_bound)]\n",
    "#     print(f'{lower}')\n",
    "    return upper, lower"
   ]
  },
  {
   "cell_type": "markdown",
   "id": "24e04b46",
   "metadata": {},
   "source": [
    "### 1. Use a 2 sigma decision rule to isolate the outliers.\n",
    "- Do these make sense?\n",
    "- Should certain outliers be kept or removed?"
   ]
  },
  {
   "cell_type": "code",
   "execution_count": 65,
   "id": "05f055af",
   "metadata": {},
   "outputs": [
    {
     "name": "stdout",
     "output_type": "stream",
     "text": [
      "low outliers for column: Temperature\n",
      "338    22.0\n",
      "364    15.1\n",
      "Name: Temperature, dtype: float64\n",
      "\n",
      "high outliers for column: Temperature\n",
      "41     212.0\n",
      "166     99.3\n",
      "176    102.6\n",
      "181    102.9\n",
      "190     98.0\n",
      "198     99.3\n",
      "202     99.6\n",
      "207     97.9\n",
      "Name: Temperature, dtype: float64\n",
      "\n",
      "high outliers for column: Rainfall\n",
      "0      2.00\n",
      "5      1.54\n",
      "6      1.54\n",
      "10     1.54\n",
      "15     1.67\n",
      "16     1.43\n",
      "19     1.43\n",
      "23     1.54\n",
      "337    1.54\n",
      "338    1.82\n",
      "342    1.43\n",
      "343    1.82\n",
      "346    1.43\n",
      "347    1.54\n",
      "351    1.43\n",
      "355    1.54\n",
      "359    1.43\n",
      "363    1.43\n",
      "364    2.50\n",
      "Name: Rainfall, dtype: float64\n",
      "\n",
      "low outliers for column: Flyers\n",
      "324   -38\n",
      "338    11\n",
      "364     9\n",
      "Name: Flyers, dtype: int64\n",
      "\n",
      "high outliers for column: Flyers\n",
      "166    77\n",
      "170    70\n",
      "171    76\n",
      "182    68\n",
      "183    68\n",
      "194    80\n",
      "198    76\n",
      "203    72\n",
      "204    69\n",
      "207    74\n",
      "Name: Flyers, dtype: int64\n",
      "\n",
      "high outliers for column: Sales\n",
      "181    143\n",
      "182    158\n",
      "183    235\n",
      "184    534\n",
      "Name: Sales, dtype: int64\n",
      "\n"
     ]
    }
   ],
   "source": [
    "for col in lemonade[num_cols]:\n",
    "    upper_2_std, lower_2_std = get_lower_and_upper_bounds_std(lemonade[col], k=2)\n",
    "    if len(lower_2_std):\n",
    "        print(f'low outliers for column: {col}')\n",
    "        print(f'{lower_2_std}\\n')\n",
    "    if len(upper_2_std):\n",
    "        print(f'high outliers for column: {col}')\n",
    "        print(f'{upper_2_std}\\n')"
   ]
  },
  {
   "cell_type": "markdown",
   "id": "604dbedf",
   "metadata": {},
   "source": [
    "#### The low outliers for temp seem fine, most of the high outliers for temp seem fine, except for the 212. rainfall outliers all seem fine. The flyers outliers seem fine except for the -38 which doesn't make sense. Sales outliers seem too far away from normal."
   ]
  },
  {
   "cell_type": "markdown",
   "id": "d1796971",
   "metadata": {},
   "source": [
    "### 2. Now use a 3 sigma decision rule to isolate the outliers in the normally distributed columns from lemonade.csv"
   ]
  },
  {
   "cell_type": "code",
   "execution_count": 66,
   "id": "8a074267",
   "metadata": {},
   "outputs": [
    {
     "name": "stdout",
     "output_type": "stream",
     "text": [
      "high outliers for column: Temperature\n",
      "41    212.0\n",
      "Name: Temperature, dtype: float64\n",
      "\n",
      "high outliers for column: Rainfall\n",
      "0      2.00\n",
      "15     1.67\n",
      "338    1.82\n",
      "343    1.82\n",
      "364    2.50\n",
      "Name: Rainfall, dtype: float64\n",
      "\n",
      "low outliers for column: Flyers\n",
      "324   -38\n",
      "Name: Flyers, dtype: int64\n",
      "\n",
      "high outliers for column: Sales\n",
      "181    143\n",
      "182    158\n",
      "183    235\n",
      "184    534\n",
      "Name: Sales, dtype: int64\n",
      "\n"
     ]
    }
   ],
   "source": [
    "for col in lemonade[num_cols]:\n",
    "    upper_2_std, lower_2_std = get_lower_and_upper_bounds_std(lemonade[col], k=3)\n",
    "    if len(lower_2_std):\n",
    "        print(f'low outliers for column: {col}')\n",
    "        print(f'{lower_2_std}\\n')\n",
    "    if len(upper_2_std):\n",
    "        print(f'high outliers for column: {col}')\n",
    "        print(f'{upper_2_std}\\n')"
   ]
  },
  {
   "cell_type": "markdown",
   "id": "7257968b",
   "metadata": {},
   "source": [
    "#### The temp outlier of 212 doesn't make sense. The rainfall outliers seem fine. The flyers outlier of -38 doesn't make sense. sales outliers still seem too far from normal."
   ]
  }
 ],
 "metadata": {
  "kernelspec": {
   "display_name": "Python 3 (ipykernel)",
   "language": "python",
   "name": "python3"
  },
  "language_info": {
   "codemirror_mode": {
    "name": "ipython",
    "version": 3
   },
   "file_extension": ".py",
   "mimetype": "text/x-python",
   "name": "python",
   "nbconvert_exporter": "python",
   "pygments_lexer": "ipython3",
   "version": "3.9.13"
  }
 },
 "nbformat": 4,
 "nbformat_minor": 5
}
