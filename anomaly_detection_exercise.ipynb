{
 "cells": [
  {
   "cell_type": "code",
   "execution_count": 1,
   "id": "56cf0d79",
   "metadata": {},
   "outputs": [],
   "source": [
    "import numpy as np\n",
    "import pandas as pd\n",
    "import wrangle_anomaly as w\n",
    "\n",
    "import matplotlib.pyplot as plt\n",
    "import seaborn as sns"
   ]
  },
  {
   "cell_type": "code",
   "execution_count": 2,
   "id": "3ca79c2f",
   "metadata": {},
   "outputs": [
    {
     "name": "stdout",
     "output_type": "stream",
     "text": [
      "opening file from local directory\n"
     ]
    },
    {
     "ename": "AttributeError",
     "evalue": "'Series' object has no attribute 'path'",
     "output_type": "error",
     "traceback": [
      "\u001b[0;31m---------------------------------------------------------------------------\u001b[0m",
      "\u001b[0;31mAttributeError\u001b[0m                            Traceback (most recent call last)",
      "\u001b[0;32m/var/folders/49/v6sf5vy165dghytk4qv6jfhc0000gn/T/ipykernel_1690/2912066053.py\u001b[0m in \u001b[0;36m<module>\u001b[0;34m\u001b[0m\n\u001b[0;32m----> 1\u001b[0;31m \u001b[0mtraffic\u001b[0m \u001b[0;34m=\u001b[0m \u001b[0mw\u001b[0m\u001b[0;34m.\u001b[0m\u001b[0mwrangle_web_traffic\u001b[0m\u001b[0;34m(\u001b[0m\u001b[0;34m)\u001b[0m\u001b[0;34m\u001b[0m\u001b[0;34m\u001b[0m\u001b[0m\n\u001b[0m",
      "\u001b[0;32m~/codeup-data-science/anomaly-detection-exercises/wrangle_anomaly.py\u001b[0m in \u001b[0;36mwrangle_web_traffic\u001b[0;34m()\u001b[0m\n\u001b[1;32m     80\u001b[0m     '''\n\u001b[1;32m     81\u001b[0m     \u001b[0;31m# acquire and prepare data\u001b[0m\u001b[0;34m\u001b[0m\u001b[0;34m\u001b[0m\u001b[0m\n\u001b[0;32m---> 82\u001b[0;31m     \u001b[0;32mreturn\u001b[0m \u001b[0mprepare_web_traffic\u001b[0m\u001b[0;34m(\u001b[0m\u001b[0macquire_web_traffic\u001b[0m\u001b[0;34m(\u001b[0m\u001b[0;34m)\u001b[0m\u001b[0;34m)\u001b[0m\u001b[0;34m\u001b[0m\u001b[0;34m\u001b[0m\u001b[0m\n\u001b[0m",
      "\u001b[0;32m~/codeup-data-science/anomaly-detection-exercises/wrangle_anomaly.py\u001b[0m in \u001b[0;36mprepare_web_traffic\u001b[0;34m(traffic)\u001b[0m\n\u001b[1;32m     63\u001b[0m     \u001b[0mpage_list\u001b[0m\u001b[0;34m=\u001b[0m\u001b[0;34m[\u001b[0m\u001b[0;34m]\u001b[0m\u001b[0;34m\u001b[0m\u001b[0;34m\u001b[0m\u001b[0m\n\u001b[1;32m     64\u001b[0m     \u001b[0;31m# split the webpage path by '/'\u001b[0m\u001b[0;34m\u001b[0m\u001b[0;34m\u001b[0m\u001b[0m\n\u001b[0;32m---> 65\u001b[0;31m     \u001b[0mpages\u001b[0m \u001b[0;34m=\u001b[0m \u001b[0mtraffic\u001b[0m\u001b[0;34m.\u001b[0m\u001b[0mpath\u001b[0m\u001b[0;34m.\u001b[0m\u001b[0mstr\u001b[0m\u001b[0;34m.\u001b[0m\u001b[0msplit\u001b[0m\u001b[0;34m(\u001b[0m\u001b[0;34m'/'\u001b[0m\u001b[0;34m)\u001b[0m\u001b[0;34m\u001b[0m\u001b[0;34m\u001b[0m\u001b[0m\n\u001b[0m\u001b[1;32m     66\u001b[0m     \u001b[0;31m# go through all of the pages\u001b[0m\u001b[0;34m\u001b[0m\u001b[0;34m\u001b[0m\u001b[0m\n\u001b[1;32m     67\u001b[0m     \u001b[0;32mfor\u001b[0m \u001b[0mi\u001b[0m \u001b[0;32min\u001b[0m \u001b[0mrange\u001b[0m\u001b[0;34m(\u001b[0m\u001b[0mlen\u001b[0m\u001b[0;34m(\u001b[0m\u001b[0mpages\u001b[0m\u001b[0;34m)\u001b[0m\u001b[0;34m)\u001b[0m\u001b[0;34m:\u001b[0m\u001b[0;34m\u001b[0m\u001b[0;34m\u001b[0m\u001b[0m\n",
      "\u001b[0;32m/opt/anaconda3/lib/python3.9/site-packages/pandas/core/generic.py\u001b[0m in \u001b[0;36m__getattr__\u001b[0;34m(self, name)\u001b[0m\n\u001b[1;32m   5573\u001b[0m         ):\n\u001b[1;32m   5574\u001b[0m             \u001b[0;32mreturn\u001b[0m \u001b[0mself\u001b[0m\u001b[0;34m[\u001b[0m\u001b[0mname\u001b[0m\u001b[0;34m]\u001b[0m\u001b[0;34m\u001b[0m\u001b[0;34m\u001b[0m\u001b[0m\n\u001b[0;32m-> 5575\u001b[0;31m         \u001b[0;32mreturn\u001b[0m \u001b[0mobject\u001b[0m\u001b[0;34m.\u001b[0m\u001b[0m__getattribute__\u001b[0m\u001b[0;34m(\u001b[0m\u001b[0mself\u001b[0m\u001b[0;34m,\u001b[0m \u001b[0mname\u001b[0m\u001b[0;34m)\u001b[0m\u001b[0;34m\u001b[0m\u001b[0;34m\u001b[0m\u001b[0m\n\u001b[0m\u001b[1;32m   5576\u001b[0m \u001b[0;34m\u001b[0m\u001b[0m\n\u001b[1;32m   5577\u001b[0m     \u001b[0;32mdef\u001b[0m \u001b[0m__setattr__\u001b[0m\u001b[0;34m(\u001b[0m\u001b[0mself\u001b[0m\u001b[0;34m,\u001b[0m \u001b[0mname\u001b[0m\u001b[0;34m:\u001b[0m \u001b[0mstr\u001b[0m\u001b[0;34m,\u001b[0m \u001b[0mvalue\u001b[0m\u001b[0;34m)\u001b[0m \u001b[0;34m->\u001b[0m \u001b[0;32mNone\u001b[0m\u001b[0;34m:\u001b[0m\u001b[0;34m\u001b[0m\u001b[0;34m\u001b[0m\u001b[0m\n",
      "\u001b[0;31mAttributeError\u001b[0m: 'Series' object has no attribute 'path'"
     ]
    }
   ],
   "source": [
    "traffic = w.wrangle_web_traffic()"
   ]
  },
  {
   "cell_type": "code",
   "execution_count": null,
   "id": "664d5786",
   "metadata": {},
   "outputs": [],
   "source": [
    "traffic"
   ]
  },
  {
   "cell_type": "markdown",
   "id": "07cdb3a3",
   "metadata": {},
   "source": [
    "# 1. Which lesson appears to attract the most traffic consistently across cohorts (per program)?"
   ]
  },
  {
   "cell_type": "code",
   "execution_count": null,
   "id": "a97d4d3d",
   "metadata": {},
   "outputs": [],
   "source": [
    "traffic.program_id.value_counts(dropna=False)"
   ]
  },
  {
   "cell_type": "code",
   "execution_count": null,
   "id": "3d943d31",
   "metadata": {},
   "outputs": [],
   "source": [
    "traffic.reset_index().groupby(['lesson', 'program_id']).\\\n",
    "    datetime.nunique().sort_values(ascending=False).head(50)"
   ]
  },
  {
   "cell_type": "code",
   "execution_count": null,
   "id": "e755b7db",
   "metadata": {},
   "outputs": [],
   "source": [
    "traffic[traffic.program_id == 4].reset_index().groupby(['lesson', 'program_id']).\\\n",
    "    datetime.nunique().sort_values(ascending=False).head(50)"
   ]
  },
  {
   "cell_type": "code",
   "execution_count": null,
   "id": "078b6027",
   "metadata": {},
   "outputs": [],
   "source": [
    "traffic[traffic.program_id.isna() == True].reset_index().groupby(['lesson']).\\\n",
    "    datetime.nunique().sort_values(ascending=False).head(50)"
   ]
  },
  {
   "cell_type": "markdown",
   "id": "b963039f",
   "metadata": {},
   "source": [
    "### The most commonly accessed lesson for each program were:\n",
    "- Program 1 - 'content' which I don't think is a lesson, 'javascript-i' was the next highest\n",
    "- Program 2 - 'javascript-i'\n",
    "- Program 3 - 'sql'\n",
    "- Program 4 - 'content'"
   ]
  },
  {
   "cell_type": "markdown",
   "id": "b6e321c2",
   "metadata": {},
   "source": [
    "# 2. Is there a cohort that referred to a lesson significantly more than other cohorts seemed to gloss over?"
   ]
  },
  {
   "cell_type": "code",
   "execution_count": null,
   "id": "002b36eb",
   "metadata": {},
   "outputs": [],
   "source": [
    "lesson_df1 = pd.DataFrame(traffic[traffic.cohort_name != 'Staff'].\\\n",
    "                          reset_index().groupby('lesson').\\\n",
    "     cohort_name.value_counts()).rename(columns={'cohort_name':'count'}).\\\n",
    "    reset_index()"
   ]
  },
  {
   "cell_type": "code",
   "execution_count": null,
   "id": "7f335efb",
   "metadata": {},
   "outputs": [],
   "source": [
    "lesson_df1.head()"
   ]
  },
  {
   "cell_type": "code",
   "execution_count": null,
   "id": "1b920a48",
   "metadata": {},
   "outputs": [],
   "source": [
    "lesson_df2 = pd.DataFrame(traffic[traffic.cohort_name != 'Staff']\\\n",
    "                          .reset_index().groupby('lesson').\\\n",
    "     cohort_name.value_counts(normalize=True)).rename(columns={'cohort_name':'proba'}).\\\n",
    "    reset_index()"
   ]
  },
  {
   "cell_type": "code",
   "execution_count": null,
   "id": "4dadbeb9",
   "metadata": {},
   "outputs": [],
   "source": [
    "lesson_df2.head()"
   ]
  },
  {
   "cell_type": "code",
   "execution_count": null,
   "id": "9ddd5717",
   "metadata": {},
   "outputs": [],
   "source": [
    "# merge the two data frames create above into a single one:\n",
    "lesson_df = pd.concat([lesson_df1, lesson_df2.proba], axis=1)\n",
    "lesson_df.head()"
   ]
  },
  {
   "cell_type": "code",
   "execution_count": null,
   "id": "fbf64c0f",
   "metadata": {},
   "outputs": [],
   "source": [
    "lesson_df[(lesson_df['count'] >= 10)].\\\n",
    "    sort_values('proba', ascending=False).head(50)"
   ]
  },
  {
   "cell_type": "markdown",
   "id": "1ec8487c",
   "metadata": {},
   "source": [
    "# 3. Are there students who, when active, hardly access the curriculum? If so, what information do you have about these students?"
   ]
  },
  {
   "cell_type": "code",
   "execution_count": null,
   "id": "abb40d2b",
   "metadata": {},
   "outputs": [],
   "source": [
    "traffic.head(2)"
   ]
  },
  {
   "cell_type": "markdown",
   "id": "abb77242",
   "metadata": {},
   "source": [
    "#### To get accesses during active status, we will need to find all instances where datetimes is between start_date and end_date for each user"
   ]
  },
  {
   "cell_type": "code",
   "execution_count": null,
   "id": "4baf6e3a",
   "metadata": {},
   "outputs": [],
   "source": [
    "active_df = traffic[(traffic.start_date < traffic.index)\n",
    "                    & (traffic.end_date > traffic.index)\n",
    "                    & (traffic.cohort_name != 'Staff')]"
   ]
  },
  {
   "cell_type": "code",
   "execution_count": null,
   "id": "b2a54a36",
   "metadata": {},
   "outputs": [],
   "source": [
    "active_df.groupby('user_id').lesson.count().sort_values().head(50)"
   ]
  },
  {
   "cell_type": "code",
   "execution_count": null,
   "id": "62ea95ae",
   "metadata": {},
   "outputs": [],
   "source": [
    "active_df.groupby('user_id').lesson.count().sort_values().head(50).index"
   ]
  },
  {
   "cell_type": "code",
   "execution_count": null,
   "id": "fbdc0222",
   "metadata": {},
   "outputs": [],
   "source": [
    "low_activity_users = active_df.groupby('user_id').\\\n",
    "    lesson.count().sort_values().head(50).index"
   ]
  },
  {
   "cell_type": "code",
   "execution_count": null,
   "id": "dec394f2",
   "metadata": {},
   "outputs": [],
   "source": [
    "low_activity_df = pd.DataFrame(active_df[active_df.user_id.isin(low_activity_users)])"
   ]
  },
  {
   "cell_type": "code",
   "execution_count": null,
   "id": "c1d43b43",
   "metadata": {},
   "outputs": [],
   "source": [
    "low_activity_user_df = pd.DataFrame(active_df[active_df.user_id.isin(low_activity_users)]\\\n",
    "    [['user_id','ip','cohort_name','start_date', 'end_date']].\\\n",
    "    groupby('user_id').value_counts()).rename(columns={0:'counts'}).reset_index()"
   ]
  },
  {
   "cell_type": "code",
   "execution_count": null,
   "id": "fa91543d",
   "metadata": {},
   "outputs": [],
   "source": [
    "low_activity_user_df"
   ]
  },
  {
   "cell_type": "code",
   "execution_count": null,
   "id": "7b508ff2",
   "metadata": {},
   "outputs": [],
   "source": [
    "low_activity_df.head()"
   ]
  },
  {
   "cell_type": "code",
   "execution_count": null,
   "id": "0c86a99c",
   "metadata": {},
   "outputs": [],
   "source": [
    "low_activity_df.groupby('cohort_name').user_id.nunique()"
   ]
  },
  {
   "cell_type": "markdown",
   "id": "59b36f0e",
   "metadata": {},
   "source": [
    "#### There are 49 users that accessed the content less than 70 times while active. The most users with low access came from cohorts Oberon and Sequoia"
   ]
  },
  {
   "cell_type": "markdown",
   "id": "5f6b715f",
   "metadata": {},
   "source": [
    "# 4. Is there any suspicious activity, such as users/machines/etc accessing the curriculum who shouldn’t be? Does it appear that any web-scraping is happening? Are there any suspicious IP addresses?"
   ]
  },
  {
   "cell_type": "code",
   "execution_count": null,
   "id": "a91ebfc4",
   "metadata": {},
   "outputs": [],
   "source": [
    "traffic[traffic.cohort_id.isna() == True]"
   ]
  },
  {
   "cell_type": "markdown",
   "id": "7d802e0e",
   "metadata": {},
   "source": []
  },
  {
   "cell_type": "markdown",
   "id": "a3b9fe59",
   "metadata": {},
   "source": [
    "### 5. At some point in 2019, the ability for students and alumni to access both curriculums (web dev to ds, ds to web dev) should have been shut off. Do you see any evidence of that happening? Did it happen before?"
   ]
  },
  {
   "cell_type": "code",
   "execution_count": null,
   "id": "c5d17a6e",
   "metadata": {},
   "outputs": [],
   "source": [
    "traffic.lesson.value_counts().head(20)"
   ]
  },
  {
   "cell_type": "code",
   "execution_count": null,
   "id": "3f5b559f",
   "metadata": {},
   "outputs": [],
   "source": [
    "traffic[traffic.lesson == 'javascript-i'].groupby('program_id').\\\n",
    "    resample('D').user_id.nunique().reset_index()"
   ]
  },
  {
   "cell_type": "code",
   "execution_count": null,
   "id": "a631a5d1",
   "metadata": {},
   "outputs": [],
   "source": [
    "js_1 = traffic[traffic.lesson == 'javascript-i'].groupby('program_id').\\\n",
    "    resample('D').user_id.nunique().reset_index()"
   ]
  },
  {
   "cell_type": "code",
   "execution_count": null,
   "id": "1e7b349d",
   "metadata": {},
   "outputs": [],
   "source": [
    "js_1 = traffic[(traffic.lesson == 'classification') \n",
    "               &(traffic.program_id == 2)\n",
    "              &(traffic.index > '2019-09')].groupby('program_id').\\\n",
    "    resample('D').user_id.nunique().reset_index()"
   ]
  },
  {
   "cell_type": "code",
   "execution_count": null,
   "id": "eb50bef5",
   "metadata": {},
   "outputs": [],
   "source": [
    "sns.lineplot(data=js_1, x='datetime', y='user_id', hue='program_id', alpha=0.5)\n",
    "plt.xticks(rotation=90)\n",
    "plt.show()"
   ]
  },
  {
   "cell_type": "markdown",
   "id": "6d21204f",
   "metadata": {},
   "source": [
    "- The last access to Javascript lessons for program 1 was on 2020-01-15.\n",
    "- program 2 appears to be able to access all content\n",
    "- The last access to Javascript lessons for program 3 was on 2019-12-15."
   ]
  },
  {
   "cell_type": "markdown",
   "id": "8e413ce0",
   "metadata": {},
   "source": [
    "# 6. What topics are grads continuing to reference after graduation and into their jobs (for each program)?"
   ]
  },
  {
   "cell_type": "code",
   "execution_count": null,
   "id": "c58be063",
   "metadata": {},
   "outputs": [],
   "source": [
    "after_grad = traffic[(traffic.index > traffic.end_date) & (traffic.cohort_name != 'Staff')]"
   ]
  },
  {
   "cell_type": "code",
   "execution_count": null,
   "id": "0ae8323f",
   "metadata": {},
   "outputs": [],
   "source": [
    "after_grad.head(2)"
   ]
  },
  {
   "cell_type": "code",
   "execution_count": null,
   "id": "374fc33b",
   "metadata": {},
   "outputs": [],
   "source": [
    "after_grad.groupby('program_id','lesson').index.nunique()"
   ]
  },
  {
   "cell_type": "markdown",
   "id": "48841768",
   "metadata": {},
   "source": [
    "# 7. Which lessons are least accessed?"
   ]
  },
  {
   "cell_type": "code",
   "execution_count": null,
   "id": "00acbee8",
   "metadata": {},
   "outputs": [],
   "source": []
  },
  {
   "cell_type": "code",
   "execution_count": null,
   "id": "717c58c1",
   "metadata": {},
   "outputs": [],
   "source": []
  }
 ],
 "metadata": {
  "kernelspec": {
   "display_name": "Python 3 (ipykernel)",
   "language": "python",
   "name": "python3"
  },
  "language_info": {
   "codemirror_mode": {
    "name": "ipython",
    "version": 3
   },
   "file_extension": ".py",
   "mimetype": "text/x-python",
   "name": "python",
   "nbconvert_exporter": "python",
   "pygments_lexer": "ipython3",
   "version": "3.9.13"
  }
 },
 "nbformat": 4,
 "nbformat_minor": 5
}
