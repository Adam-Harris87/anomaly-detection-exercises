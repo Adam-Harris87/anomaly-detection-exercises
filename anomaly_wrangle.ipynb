{
 "cells": [
  {
   "cell_type": "code",
   "execution_count": 3,
   "id": "f60cd56f",
   "metadata": {},
   "outputs": [],
   "source": [
    "# import data manipulation tools\n",
    "import numpy as np\n",
    "import pandas as pd\n",
    "# import file access tools\n",
    "import os\n",
    "import env"
   ]
  },
  {
   "cell_type": "code",
   "execution_count": 2,
   "id": "0e078b5e",
   "metadata": {},
   "outputs": [],
   "source": [
    "def acquire_web_traffic():\n",
    "    '''\n",
    "    this will read in the codeup web traffic log from csv file in the local directory,\n",
    "    if one does not exist, it will download the data via sql from the codeup server\n",
    "    '''\n",
    "    # set file name\n",
    "    filename = 'curriculum_logs.csv'\n",
    "    # check if file exists in local directory\n",
    "    if os.path.exists(filename):\n",
    "        print('opening file from local directory')\n",
    "        # read in the file to a dataframe\n",
    "        traffic = pd.read_csv(filename, index_col=0)\n",
    "    # if the file doesn't exist\n",
    "    else:\n",
    "        # print an error\n",
    "        print(f'file {filename} not found in local directory, downloading via SQL')\n",
    "        # download dataset from codeup server\n",
    "        # set database we are looking at\n",
    "        database = 'curriculum_logs'\n",
    "        # create sql connectioni\n",
    "        connection = env.get_db_url(database)\n",
    "        # create sql query\n",
    "        query = '''\n",
    "select l.date, l.time, l.path, l.user_id, l.cohort_id,\n",
    "\tl.ip, c.name as cohort_name, c.start_date, c.end_date, c.program_id\n",
    "from logs l\n",
    "left join cohorts c\n",
    "\ton l.cohort_id = c.id\n",
    ";\n",
    "        '''\n",
    "        # query server via sql\n",
    "        traffic = pd.read_sql(query, connection)\n",
    "        # cache the data to local csv file\n",
    "        traffic.to_csv(filename)\n",
    "    # return the dataframe\n",
    "    return traffic"
   ]
  },
  {
   "cell_type": "code",
   "execution_count": 22,
   "id": "d7abe7b0",
   "metadata": {},
   "outputs": [],
   "source": [
    "def prepare_web_traffic(traffic):\n",
    "    '''\n",
    "    this will prepare the codeup web traffic dataframe for use\n",
    "    '''\n",
    "    # combine the date and time into one varaible\n",
    "    traffic['datetime'] = traffic.date + ' ' + traffic.time\n",
    "    # change the new datetime column to datetime type\n",
    "    traffic.datetime = pd.to_datetime(traffic.datetime)\n",
    "    # drop the redundant date and time columns and set datetime as the index\n",
    "    traffic = traffic.drop(columns=['date', 'time']).set_index('datetime')\n",
    "    # drop null rows in path (there's only 1)\n",
    "    traffic = traffic[traffic.path.isna() == False]\n",
    "    # convert first part of website path into column called lesson\n",
    "    # create an empty list\n",
    "    page_list=[]\n",
    "    # split the webpage path by '/'\n",
    "    pages = traffic.path.str.split('/')\n",
    "    # go through all of the pages\n",
    "    for i in range(len(pages)):\n",
    "        # make a list of the first part of the paths\n",
    "        page_list.append(pages[i][0])\n",
    "    # create a new column with the first part of the path\n",
    "    traffic['lesson'] = page_list\n",
    "    # return the prepared dataframe\n",
    "    return traffic"
   ]
  },
  {
   "cell_type": "code",
   "execution_count": 23,
   "id": "dc5aa3cf",
   "metadata": {},
   "outputs": [],
   "source": [
    "def wrangle_web_traffic():\n",
    "    '''\n",
    "    this will perform both acquire and preparation steps in one command\n",
    "    '''\n",
    "    # acquire and prepare data\n",
    "    return prepare_web_traffic(acquire_web_traffic())"
   ]
  },
  {
   "cell_type": "code",
   "execution_count": 2,
   "id": "e14d5269",
   "metadata": {},
   "outputs": [],
   "source": [
    "traffic = pd.read_csv('anonymized-curriculum-access.txt', sep=' ', header=None)"
   ]
  },
  {
   "cell_type": "code",
   "execution_count": 3,
   "id": "7f1bc54e",
   "metadata": {},
   "outputs": [
    {
     "data": {
      "text/html": [
       "<div>\n",
       "<style scoped>\n",
       "    .dataframe tbody tr th:only-of-type {\n",
       "        vertical-align: middle;\n",
       "    }\n",
       "\n",
       "    .dataframe tbody tr th {\n",
       "        vertical-align: top;\n",
       "    }\n",
       "\n",
       "    .dataframe thead th {\n",
       "        text-align: right;\n",
       "    }\n",
       "</style>\n",
       "<table border=\"1\" class=\"dataframe\">\n",
       "  <thead>\n",
       "    <tr style=\"text-align: right;\">\n",
       "      <th></th>\n",
       "      <th>0</th>\n",
       "      <th>1</th>\n",
       "      <th>2</th>\n",
       "      <th>3</th>\n",
       "      <th>4</th>\n",
       "      <th>5</th>\n",
       "    </tr>\n",
       "  </thead>\n",
       "  <tbody>\n",
       "    <tr>\n",
       "      <th>0</th>\n",
       "      <td>2018-01-26</td>\n",
       "      <td>09:55:03</td>\n",
       "      <td>/</td>\n",
       "      <td>1</td>\n",
       "      <td>8.0</td>\n",
       "      <td>97.105.19.61</td>\n",
       "    </tr>\n",
       "    <tr>\n",
       "      <th>1</th>\n",
       "      <td>2018-01-26</td>\n",
       "      <td>09:56:02</td>\n",
       "      <td>java-ii</td>\n",
       "      <td>1</td>\n",
       "      <td>8.0</td>\n",
       "      <td>97.105.19.61</td>\n",
       "    </tr>\n",
       "    <tr>\n",
       "      <th>2</th>\n",
       "      <td>2018-01-26</td>\n",
       "      <td>09:56:05</td>\n",
       "      <td>java-ii/object-oriented-programming</td>\n",
       "      <td>1</td>\n",
       "      <td>8.0</td>\n",
       "      <td>97.105.19.61</td>\n",
       "    </tr>\n",
       "    <tr>\n",
       "      <th>3</th>\n",
       "      <td>2018-01-26</td>\n",
       "      <td>09:56:06</td>\n",
       "      <td>slides/object_oriented_programming</td>\n",
       "      <td>1</td>\n",
       "      <td>8.0</td>\n",
       "      <td>97.105.19.61</td>\n",
       "    </tr>\n",
       "    <tr>\n",
       "      <th>4</th>\n",
       "      <td>2018-01-26</td>\n",
       "      <td>09:56:24</td>\n",
       "      <td>javascript-i/conditionals</td>\n",
       "      <td>2</td>\n",
       "      <td>22.0</td>\n",
       "      <td>97.105.19.61</td>\n",
       "    </tr>\n",
       "  </tbody>\n",
       "</table>\n",
       "</div>"
      ],
      "text/plain": [
       "            0         1                                    2  3     4  \\\n",
       "0  2018-01-26  09:55:03                                    /  1   8.0   \n",
       "1  2018-01-26  09:56:02                              java-ii  1   8.0   \n",
       "2  2018-01-26  09:56:05  java-ii/object-oriented-programming  1   8.0   \n",
       "3  2018-01-26  09:56:06   slides/object_oriented_programming  1   8.0   \n",
       "4  2018-01-26  09:56:24            javascript-i/conditionals  2  22.0   \n",
       "\n",
       "              5  \n",
       "0  97.105.19.61  \n",
       "1  97.105.19.61  \n",
       "2  97.105.19.61  \n",
       "3  97.105.19.61  \n",
       "4  97.105.19.61  "
      ]
     },
     "execution_count": 3,
     "metadata": {},
     "output_type": "execute_result"
    }
   ],
   "source": [
    "traffic.head()"
   ]
  },
  {
   "cell_type": "markdown",
   "id": "f3292f73",
   "metadata": {},
   "source": [
    "### This data is supposed to contain cohort and student info along with machine\n",
    "- There are 981 unique entries in column 3 and 47 entries in column 4\n",
    "- I'm thinking that column 3 is student, and column 4 is cohort\n",
    "- column 5 is clearly ip"
   ]
  },
  {
   "cell_type": "code",
   "execution_count": 4,
   "id": "58b95882",
   "metadata": {},
   "outputs": [],
   "source": [
    "traffic = traffic.rename(columns={\n",
    "    0:'date', 1:'time', 2:'page', 3:'user_id', 4:'cohort', 5:'ip'})"
   ]
  },
  {
   "cell_type": "code",
   "execution_count": 5,
   "id": "588f76d4",
   "metadata": {},
   "outputs": [],
   "source": [
    "traffic['datetime'] = traffic.date + ' ' + traffic.time"
   ]
  },
  {
   "cell_type": "code",
   "execution_count": 6,
   "id": "4e7320f2",
   "metadata": {},
   "outputs": [],
   "source": [
    "traffic.datetime = pd.to_datetime(traffic.datetime)"
   ]
  },
  {
   "cell_type": "code",
   "execution_count": 7,
   "id": "9f7e4291",
   "metadata": {},
   "outputs": [],
   "source": [
    "traffic = traffic.drop(columns=['date', 'time']).set_index('datetime')"
   ]
  },
  {
   "cell_type": "code",
   "execution_count": 8,
   "id": "1937fe81",
   "metadata": {},
   "outputs": [],
   "source": [
    "pages = traffic.page.str.split('/')"
   ]
  },
  {
   "cell_type": "code",
   "execution_count": 9,
   "id": "2ea93794",
   "metadata": {},
   "outputs": [
    {
     "data": {
      "text/plain": [
       "'javascript-i'"
      ]
     },
     "execution_count": 9,
     "metadata": {},
     "output_type": "execute_result"
    }
   ],
   "source": [
    "pages[7][0]"
   ]
  },
  {
   "cell_type": "code",
   "execution_count": 10,
   "id": "098901d5",
   "metadata": {},
   "outputs": [
    {
     "data": {
      "text/plain": [
       "900223"
      ]
     },
     "execution_count": 10,
     "metadata": {},
     "output_type": "execute_result"
    }
   ],
   "source": [
    "len(pages)"
   ]
  },
  {
   "cell_type": "code",
   "execution_count": 11,
   "id": "88252d2a",
   "metadata": {},
   "outputs": [
    {
     "data": {
      "text/plain": [
       "range(0, 900223)"
      ]
     },
     "execution_count": 11,
     "metadata": {},
     "output_type": "execute_result"
    }
   ],
   "source": [
    "range(len(pages))"
   ]
  },
  {
   "cell_type": "code",
   "execution_count": 12,
   "id": "7ed01ace",
   "metadata": {},
   "outputs": [],
   "source": [
    "# for i in range(len(pages)):\n",
    "#     print(f'{i}')"
   ]
  },
  {
   "cell_type": "code",
   "execution_count": 13,
   "id": "bdd5f29e",
   "metadata": {},
   "outputs": [],
   "source": [
    "page_list=[]"
   ]
  },
  {
   "cell_type": "code",
   "execution_count": 14,
   "id": "b8017dbc",
   "metadata": {},
   "outputs": [
    {
     "data": {
      "text/plain": [
       "[]"
      ]
     },
     "execution_count": 14,
     "metadata": {},
     "output_type": "execute_result"
    }
   ],
   "source": [
    "page_list"
   ]
  },
  {
   "cell_type": "code",
   "execution_count": 15,
   "id": "82657f1c",
   "metadata": {},
   "outputs": [
    {
     "data": {
      "text/plain": [
       "datetime\n",
       "2018-01-26 09:55:03                                                 [, ]\n",
       "2018-01-26 09:56:02                                            [java-ii]\n",
       "2018-01-26 09:56:05               [java-ii, object-oriented-programming]\n",
       "2018-01-26 09:56:06                [slides, object_oriented_programming]\n",
       "2018-01-26 09:56:24                         [javascript-i, conditionals]\n",
       "                                             ...                        \n",
       "2021-04-21 16:41:51                              [jquery, personal-site]\n",
       "2021-04-21 16:42:02                                 [jquery, mapbox-api]\n",
       "2021-04-21 16:42:09                          [jquery, ajax, weather-map]\n",
       "2021-04-21 16:44:37    [anomaly-detection, discrete-probabilistic-met...\n",
       "2021-04-21 16:44:39                                 [jquery, mapbox-api]\n",
       "Name: page, Length: 900223, dtype: object"
      ]
     },
     "execution_count": 15,
     "metadata": {},
     "output_type": "execute_result"
    }
   ],
   "source": [
    "traffic.page.str.split('/')"
   ]
  },
  {
   "cell_type": "code",
   "execution_count": 16,
   "id": "567b97e9",
   "metadata": {},
   "outputs": [],
   "source": [
    "# for i in range(len(pages)):\n",
    "#     print(f'{i}')"
   ]
  },
  {
   "cell_type": "code",
   "execution_count": 17,
   "id": "0553faf6",
   "metadata": {},
   "outputs": [],
   "source": [
    "traffic = traffic.dropna()"
   ]
  },
  {
   "cell_type": "code",
   "execution_count": 18,
   "id": "1dba3e51",
   "metadata": {},
   "outputs": [
    {
     "name": "stdout",
     "output_type": "stream",
     "text": [
      "<class 'pandas.core.frame.DataFrame'>\n",
      "DatetimeIndex: 847329 entries, 2018-01-26 09:55:03 to 2021-04-21 16:44:39\n",
      "Data columns (total 4 columns):\n",
      " #   Column   Non-Null Count   Dtype  \n",
      "---  ------   --------------   -----  \n",
      " 0   page     847329 non-null  object \n",
      " 1   user_id  847329 non-null  int64  \n",
      " 2   cohort   847329 non-null  float64\n",
      " 3   ip       847329 non-null  object \n",
      "dtypes: float64(1), int64(1), object(2)\n",
      "memory usage: 32.3+ MB\n"
     ]
    }
   ],
   "source": [
    "traffic.info()"
   ]
  },
  {
   "cell_type": "code",
   "execution_count": 19,
   "id": "7e26cc28",
   "metadata": {},
   "outputs": [],
   "source": [
    "page_list=[]\n",
    "pages = traffic.page.str.split('/')\n",
    "for i in range(len(pages)):\n",
    "    page_list.append(pages[i][0])\n",
    "traffic['lesson'] = page_list"
   ]
  },
  {
   "cell_type": "code",
   "execution_count": 1,
   "id": "d38cf290",
   "metadata": {},
   "outputs": [
    {
     "ename": "NameError",
     "evalue": "name 'traffic' is not defined",
     "output_type": "error",
     "traceback": [
      "\u001b[0;31m---------------------------------------------------------------------------\u001b[0m",
      "\u001b[0;31mNameError\u001b[0m                                 Traceback (most recent call last)",
      "\u001b[0;32m/var/folders/49/v6sf5vy165dghytk4qv6jfhc0000gn/T/ipykernel_1237/261572395.py\u001b[0m in \u001b[0;36m<module>\u001b[0;34m\u001b[0m\n\u001b[0;32m----> 1\u001b[0;31m \u001b[0mtraffic\u001b[0m\u001b[0;34m.\u001b[0m\u001b[0mhead\u001b[0m\u001b[0;34m(\u001b[0m\u001b[0;34m)\u001b[0m\u001b[0;34m\u001b[0m\u001b[0;34m\u001b[0m\u001b[0m\n\u001b[0m",
      "\u001b[0;31mNameError\u001b[0m: name 'traffic' is not defined"
     ]
    }
   ],
   "source": [
    "traffic.head()"
   ]
  },
  {
   "cell_type": "code",
   "execution_count": 4,
   "id": "eb4b6d33",
   "metadata": {},
   "outputs": [
    {
     "name": "stdout",
     "output_type": "stream",
     "text": [
      "opening file from local directory\n"
     ]
    },
    {
     "data": {
      "text/html": [
       "<div>\n",
       "<style scoped>\n",
       "    .dataframe tbody tr th:only-of-type {\n",
       "        vertical-align: middle;\n",
       "    }\n",
       "\n",
       "    .dataframe tbody tr th {\n",
       "        vertical-align: top;\n",
       "    }\n",
       "\n",
       "    .dataframe thead th {\n",
       "        text-align: right;\n",
       "    }\n",
       "</style>\n",
       "<table border=\"1\" class=\"dataframe\">\n",
       "  <thead>\n",
       "    <tr style=\"text-align: right;\">\n",
       "      <th></th>\n",
       "      <th>date</th>\n",
       "      <th>time</th>\n",
       "      <th>path</th>\n",
       "      <th>user_id</th>\n",
       "      <th>cohort_id</th>\n",
       "      <th>ip</th>\n",
       "      <th>cohort_name</th>\n",
       "      <th>start_date</th>\n",
       "      <th>end_date</th>\n",
       "      <th>program_id</th>\n",
       "    </tr>\n",
       "  </thead>\n",
       "  <tbody>\n",
       "    <tr>\n",
       "      <th>0</th>\n",
       "      <td>2018-01-26</td>\n",
       "      <td>09:55:03</td>\n",
       "      <td>/</td>\n",
       "      <td>1</td>\n",
       "      <td>8.0</td>\n",
       "      <td>97.105.19.61</td>\n",
       "      <td>Hampton</td>\n",
       "      <td>2015-09-22</td>\n",
       "      <td>2016-02-06</td>\n",
       "      <td>1.0</td>\n",
       "    </tr>\n",
       "    <tr>\n",
       "      <th>1</th>\n",
       "      <td>2018-01-26</td>\n",
       "      <td>09:56:02</td>\n",
       "      <td>java-ii</td>\n",
       "      <td>1</td>\n",
       "      <td>8.0</td>\n",
       "      <td>97.105.19.61</td>\n",
       "      <td>Hampton</td>\n",
       "      <td>2015-09-22</td>\n",
       "      <td>2016-02-06</td>\n",
       "      <td>1.0</td>\n",
       "    </tr>\n",
       "    <tr>\n",
       "      <th>2</th>\n",
       "      <td>2018-01-26</td>\n",
       "      <td>09:56:05</td>\n",
       "      <td>java-ii/object-oriented-programming</td>\n",
       "      <td>1</td>\n",
       "      <td>8.0</td>\n",
       "      <td>97.105.19.61</td>\n",
       "      <td>Hampton</td>\n",
       "      <td>2015-09-22</td>\n",
       "      <td>2016-02-06</td>\n",
       "      <td>1.0</td>\n",
       "    </tr>\n",
       "    <tr>\n",
       "      <th>3</th>\n",
       "      <td>2018-01-26</td>\n",
       "      <td>09:56:06</td>\n",
       "      <td>slides/object_oriented_programming</td>\n",
       "      <td>1</td>\n",
       "      <td>8.0</td>\n",
       "      <td>97.105.19.61</td>\n",
       "      <td>Hampton</td>\n",
       "      <td>2015-09-22</td>\n",
       "      <td>2016-02-06</td>\n",
       "      <td>1.0</td>\n",
       "    </tr>\n",
       "    <tr>\n",
       "      <th>4</th>\n",
       "      <td>2018-01-26</td>\n",
       "      <td>09:56:24</td>\n",
       "      <td>javascript-i/conditionals</td>\n",
       "      <td>2</td>\n",
       "      <td>22.0</td>\n",
       "      <td>97.105.19.61</td>\n",
       "      <td>Teddy</td>\n",
       "      <td>2018-01-08</td>\n",
       "      <td>2018-05-17</td>\n",
       "      <td>2.0</td>\n",
       "    </tr>\n",
       "    <tr>\n",
       "      <th>...</th>\n",
       "      <td>...</td>\n",
       "      <td>...</td>\n",
       "      <td>...</td>\n",
       "      <td>...</td>\n",
       "      <td>...</td>\n",
       "      <td>...</td>\n",
       "      <td>...</td>\n",
       "      <td>...</td>\n",
       "      <td>...</td>\n",
       "      <td>...</td>\n",
       "    </tr>\n",
       "    <tr>\n",
       "      <th>900218</th>\n",
       "      <td>2021-04-21</td>\n",
       "      <td>16:41:51</td>\n",
       "      <td>jquery/personal-site</td>\n",
       "      <td>64</td>\n",
       "      <td>28.0</td>\n",
       "      <td>71.150.217.33</td>\n",
       "      <td>Staff</td>\n",
       "      <td>2014-02-04</td>\n",
       "      <td>2014-02-04</td>\n",
       "      <td>2.0</td>\n",
       "    </tr>\n",
       "    <tr>\n",
       "      <th>900219</th>\n",
       "      <td>2021-04-21</td>\n",
       "      <td>16:42:02</td>\n",
       "      <td>jquery/mapbox-api</td>\n",
       "      <td>64</td>\n",
       "      <td>28.0</td>\n",
       "      <td>71.150.217.33</td>\n",
       "      <td>Staff</td>\n",
       "      <td>2014-02-04</td>\n",
       "      <td>2014-02-04</td>\n",
       "      <td>2.0</td>\n",
       "    </tr>\n",
       "    <tr>\n",
       "      <th>900220</th>\n",
       "      <td>2021-04-21</td>\n",
       "      <td>16:42:09</td>\n",
       "      <td>jquery/ajax/weather-map</td>\n",
       "      <td>64</td>\n",
       "      <td>28.0</td>\n",
       "      <td>71.150.217.33</td>\n",
       "      <td>Staff</td>\n",
       "      <td>2014-02-04</td>\n",
       "      <td>2014-02-04</td>\n",
       "      <td>2.0</td>\n",
       "    </tr>\n",
       "    <tr>\n",
       "      <th>900221</th>\n",
       "      <td>2021-04-21</td>\n",
       "      <td>16:44:37</td>\n",
       "      <td>anomaly-detection/discrete-probabilistic-methods</td>\n",
       "      <td>744</td>\n",
       "      <td>28.0</td>\n",
       "      <td>24.160.137.86</td>\n",
       "      <td>Staff</td>\n",
       "      <td>2014-02-04</td>\n",
       "      <td>2014-02-04</td>\n",
       "      <td>2.0</td>\n",
       "    </tr>\n",
       "    <tr>\n",
       "      <th>900222</th>\n",
       "      <td>2021-04-21</td>\n",
       "      <td>16:44:39</td>\n",
       "      <td>jquery/mapbox-api</td>\n",
       "      <td>64</td>\n",
       "      <td>28.0</td>\n",
       "      <td>71.150.217.33</td>\n",
       "      <td>Staff</td>\n",
       "      <td>2014-02-04</td>\n",
       "      <td>2014-02-04</td>\n",
       "      <td>2.0</td>\n",
       "    </tr>\n",
       "  </tbody>\n",
       "</table>\n",
       "<p>900223 rows × 10 columns</p>\n",
       "</div>"
      ],
      "text/plain": [
       "              date      time  \\\n",
       "0       2018-01-26  09:55:03   \n",
       "1       2018-01-26  09:56:02   \n",
       "2       2018-01-26  09:56:05   \n",
       "3       2018-01-26  09:56:06   \n",
       "4       2018-01-26  09:56:24   \n",
       "...            ...       ...   \n",
       "900218  2021-04-21  16:41:51   \n",
       "900219  2021-04-21  16:42:02   \n",
       "900220  2021-04-21  16:42:09   \n",
       "900221  2021-04-21  16:44:37   \n",
       "900222  2021-04-21  16:44:39   \n",
       "\n",
       "                                                    path  user_id  cohort_id  \\\n",
       "0                                                      /        1        8.0   \n",
       "1                                                java-ii        1        8.0   \n",
       "2                    java-ii/object-oriented-programming        1        8.0   \n",
       "3                     slides/object_oriented_programming        1        8.0   \n",
       "4                              javascript-i/conditionals        2       22.0   \n",
       "...                                                  ...      ...        ...   \n",
       "900218                              jquery/personal-site       64       28.0   \n",
       "900219                                 jquery/mapbox-api       64       28.0   \n",
       "900220                           jquery/ajax/weather-map       64       28.0   \n",
       "900221  anomaly-detection/discrete-probabilistic-methods      744       28.0   \n",
       "900222                                 jquery/mapbox-api       64       28.0   \n",
       "\n",
       "                   ip cohort_name  start_date    end_date  program_id  \n",
       "0        97.105.19.61     Hampton  2015-09-22  2016-02-06         1.0  \n",
       "1        97.105.19.61     Hampton  2015-09-22  2016-02-06         1.0  \n",
       "2        97.105.19.61     Hampton  2015-09-22  2016-02-06         1.0  \n",
       "3        97.105.19.61     Hampton  2015-09-22  2016-02-06         1.0  \n",
       "4        97.105.19.61       Teddy  2018-01-08  2018-05-17         2.0  \n",
       "...               ...         ...         ...         ...         ...  \n",
       "900218  71.150.217.33       Staff  2014-02-04  2014-02-04         2.0  \n",
       "900219  71.150.217.33       Staff  2014-02-04  2014-02-04         2.0  \n",
       "900220  71.150.217.33       Staff  2014-02-04  2014-02-04         2.0  \n",
       "900221  24.160.137.86       Staff  2014-02-04  2014-02-04         2.0  \n",
       "900222  71.150.217.33       Staff  2014-02-04  2014-02-04         2.0  \n",
       "\n",
       "[900223 rows x 10 columns]"
      ]
     },
     "execution_count": 4,
     "metadata": {},
     "output_type": "execute_result"
    }
   ],
   "source": [
    "traf = acquire_web_traffic()\n",
    "traf"
   ]
  },
  {
   "cell_type": "code",
   "execution_count": 25,
   "id": "0106ee9b",
   "metadata": {},
   "outputs": [
    {
     "name": "stdout",
     "output_type": "stream",
     "text": [
      "opening file from local directory\n"
     ]
    },
    {
     "data": {
      "text/html": [
       "<div>\n",
       "<style scoped>\n",
       "    .dataframe tbody tr th:only-of-type {\n",
       "        vertical-align: middle;\n",
       "    }\n",
       "\n",
       "    .dataframe tbody tr th {\n",
       "        vertical-align: top;\n",
       "    }\n",
       "\n",
       "    .dataframe thead th {\n",
       "        text-align: right;\n",
       "    }\n",
       "</style>\n",
       "<table border=\"1\" class=\"dataframe\">\n",
       "  <thead>\n",
       "    <tr style=\"text-align: right;\">\n",
       "      <th></th>\n",
       "      <th>path</th>\n",
       "      <th>user_id</th>\n",
       "      <th>cohort_name</th>\n",
       "      <th>ip</th>\n",
       "      <th>name</th>\n",
       "      <th>start_date</th>\n",
       "      <th>end_date</th>\n",
       "      <th>program_id</th>\n",
       "      <th>lesson</th>\n",
       "    </tr>\n",
       "    <tr>\n",
       "      <th>datetime</th>\n",
       "      <th></th>\n",
       "      <th></th>\n",
       "      <th></th>\n",
       "      <th></th>\n",
       "      <th></th>\n",
       "      <th></th>\n",
       "      <th></th>\n",
       "      <th></th>\n",
       "      <th></th>\n",
       "    </tr>\n",
       "  </thead>\n",
       "  <tbody>\n",
       "    <tr>\n",
       "      <th>2018-01-26 09:55:03</th>\n",
       "      <td>/</td>\n",
       "      <td>1</td>\n",
       "      <td>8.0</td>\n",
       "      <td>97.105.19.61</td>\n",
       "      <td>Hampton</td>\n",
       "      <td>2015-09-22</td>\n",
       "      <td>2016-02-06</td>\n",
       "      <td>1</td>\n",
       "      <td></td>\n",
       "    </tr>\n",
       "    <tr>\n",
       "      <th>2018-01-26 09:56:02</th>\n",
       "      <td>java-ii</td>\n",
       "      <td>1</td>\n",
       "      <td>8.0</td>\n",
       "      <td>97.105.19.61</td>\n",
       "      <td>Hampton</td>\n",
       "      <td>2015-09-22</td>\n",
       "      <td>2016-02-06</td>\n",
       "      <td>1</td>\n",
       "      <td>java-ii</td>\n",
       "    </tr>\n",
       "    <tr>\n",
       "      <th>2018-01-26 09:56:05</th>\n",
       "      <td>java-ii/object-oriented-programming</td>\n",
       "      <td>1</td>\n",
       "      <td>8.0</td>\n",
       "      <td>97.105.19.61</td>\n",
       "      <td>Hampton</td>\n",
       "      <td>2015-09-22</td>\n",
       "      <td>2016-02-06</td>\n",
       "      <td>1</td>\n",
       "      <td>java-ii</td>\n",
       "    </tr>\n",
       "    <tr>\n",
       "      <th>2018-01-26 09:56:06</th>\n",
       "      <td>slides/object_oriented_programming</td>\n",
       "      <td>1</td>\n",
       "      <td>8.0</td>\n",
       "      <td>97.105.19.61</td>\n",
       "      <td>Hampton</td>\n",
       "      <td>2015-09-22</td>\n",
       "      <td>2016-02-06</td>\n",
       "      <td>1</td>\n",
       "      <td>slides</td>\n",
       "    </tr>\n",
       "    <tr>\n",
       "      <th>2018-01-26 09:56:24</th>\n",
       "      <td>javascript-i/conditionals</td>\n",
       "      <td>2</td>\n",
       "      <td>22.0</td>\n",
       "      <td>97.105.19.61</td>\n",
       "      <td>Teddy</td>\n",
       "      <td>2018-01-08</td>\n",
       "      <td>2018-05-17</td>\n",
       "      <td>2</td>\n",
       "      <td>javascript-i</td>\n",
       "    </tr>\n",
       "    <tr>\n",
       "      <th>...</th>\n",
       "      <td>...</td>\n",
       "      <td>...</td>\n",
       "      <td>...</td>\n",
       "      <td>...</td>\n",
       "      <td>...</td>\n",
       "      <td>...</td>\n",
       "      <td>...</td>\n",
       "      <td>...</td>\n",
       "      <td>...</td>\n",
       "    </tr>\n",
       "    <tr>\n",
       "      <th>2021-04-21 16:41:51</th>\n",
       "      <td>jquery/personal-site</td>\n",
       "      <td>64</td>\n",
       "      <td>28.0</td>\n",
       "      <td>71.150.217.33</td>\n",
       "      <td>Staff</td>\n",
       "      <td>2014-02-04</td>\n",
       "      <td>2014-02-04</td>\n",
       "      <td>2</td>\n",
       "      <td>jquery</td>\n",
       "    </tr>\n",
       "    <tr>\n",
       "      <th>2021-04-21 16:42:02</th>\n",
       "      <td>jquery/mapbox-api</td>\n",
       "      <td>64</td>\n",
       "      <td>28.0</td>\n",
       "      <td>71.150.217.33</td>\n",
       "      <td>Staff</td>\n",
       "      <td>2014-02-04</td>\n",
       "      <td>2014-02-04</td>\n",
       "      <td>2</td>\n",
       "      <td>jquery</td>\n",
       "    </tr>\n",
       "    <tr>\n",
       "      <th>2021-04-21 16:42:09</th>\n",
       "      <td>jquery/ajax/weather-map</td>\n",
       "      <td>64</td>\n",
       "      <td>28.0</td>\n",
       "      <td>71.150.217.33</td>\n",
       "      <td>Staff</td>\n",
       "      <td>2014-02-04</td>\n",
       "      <td>2014-02-04</td>\n",
       "      <td>2</td>\n",
       "      <td>jquery</td>\n",
       "    </tr>\n",
       "    <tr>\n",
       "      <th>2021-04-21 16:44:37</th>\n",
       "      <td>anomaly-detection/discrete-probabilistic-methods</td>\n",
       "      <td>744</td>\n",
       "      <td>28.0</td>\n",
       "      <td>24.160.137.86</td>\n",
       "      <td>Staff</td>\n",
       "      <td>2014-02-04</td>\n",
       "      <td>2014-02-04</td>\n",
       "      <td>2</td>\n",
       "      <td>anomaly-detection</td>\n",
       "    </tr>\n",
       "    <tr>\n",
       "      <th>2021-04-21 16:44:39</th>\n",
       "      <td>jquery/mapbox-api</td>\n",
       "      <td>64</td>\n",
       "      <td>28.0</td>\n",
       "      <td>71.150.217.33</td>\n",
       "      <td>Staff</td>\n",
       "      <td>2014-02-04</td>\n",
       "      <td>2014-02-04</td>\n",
       "      <td>2</td>\n",
       "      <td>jquery</td>\n",
       "    </tr>\n",
       "  </tbody>\n",
       "</table>\n",
       "<p>847329 rows × 9 columns</p>\n",
       "</div>"
      ],
      "text/plain": [
       "                                                                 path  \\\n",
       "datetime                                                                \n",
       "2018-01-26 09:55:03                                                 /   \n",
       "2018-01-26 09:56:02                                           java-ii   \n",
       "2018-01-26 09:56:05               java-ii/object-oriented-programming   \n",
       "2018-01-26 09:56:06                slides/object_oriented_programming   \n",
       "2018-01-26 09:56:24                         javascript-i/conditionals   \n",
       "...                                                               ...   \n",
       "2021-04-21 16:41:51                              jquery/personal-site   \n",
       "2021-04-21 16:42:02                                 jquery/mapbox-api   \n",
       "2021-04-21 16:42:09                           jquery/ajax/weather-map   \n",
       "2021-04-21 16:44:37  anomaly-detection/discrete-probabilistic-methods   \n",
       "2021-04-21 16:44:39                                 jquery/mapbox-api   \n",
       "\n",
       "                     user_id  cohort_name             ip     name  start_date  \\\n",
       "datetime                                                                        \n",
       "2018-01-26 09:55:03        1          8.0   97.105.19.61  Hampton  2015-09-22   \n",
       "2018-01-26 09:56:02        1          8.0   97.105.19.61  Hampton  2015-09-22   \n",
       "2018-01-26 09:56:05        1          8.0   97.105.19.61  Hampton  2015-09-22   \n",
       "2018-01-26 09:56:06        1          8.0   97.105.19.61  Hampton  2015-09-22   \n",
       "2018-01-26 09:56:24        2         22.0   97.105.19.61    Teddy  2018-01-08   \n",
       "...                      ...          ...            ...      ...         ...   \n",
       "2021-04-21 16:41:51       64         28.0  71.150.217.33    Staff  2014-02-04   \n",
       "2021-04-21 16:42:02       64         28.0  71.150.217.33    Staff  2014-02-04   \n",
       "2021-04-21 16:42:09       64         28.0  71.150.217.33    Staff  2014-02-04   \n",
       "2021-04-21 16:44:37      744         28.0  24.160.137.86    Staff  2014-02-04   \n",
       "2021-04-21 16:44:39       64         28.0  71.150.217.33    Staff  2014-02-04   \n",
       "\n",
       "                       end_date  program_id             lesson  \n",
       "datetime                                                        \n",
       "2018-01-26 09:55:03  2016-02-06           1                     \n",
       "2018-01-26 09:56:02  2016-02-06           1            java-ii  \n",
       "2018-01-26 09:56:05  2016-02-06           1            java-ii  \n",
       "2018-01-26 09:56:06  2016-02-06           1             slides  \n",
       "2018-01-26 09:56:24  2018-05-17           2       javascript-i  \n",
       "...                         ...         ...                ...  \n",
       "2021-04-21 16:41:51  2014-02-04           2             jquery  \n",
       "2021-04-21 16:42:02  2014-02-04           2             jquery  \n",
       "2021-04-21 16:42:09  2014-02-04           2             jquery  \n",
       "2021-04-21 16:44:37  2014-02-04           2  anomaly-detection  \n",
       "2021-04-21 16:44:39  2014-02-04           2             jquery  \n",
       "\n",
       "[847329 rows x 9 columns]"
      ]
     },
     "execution_count": 25,
     "metadata": {},
     "output_type": "execute_result"
    }
   ],
   "source": [
    "traf = wrangle_web_traffic()\n",
    "traf"
   ]
  },
  {
   "cell_type": "code",
   "execution_count": 8,
   "id": "ebc74af6",
   "metadata": {},
   "outputs": [],
   "source": [
    "traf = traf[traf.path.isna() == False]"
   ]
  },
  {
   "cell_type": "code",
   "execution_count": 26,
   "id": "c978dfa5",
   "metadata": {},
   "outputs": [
    {
     "name": "stdout",
     "output_type": "stream",
     "text": [
      "<class 'pandas.core.frame.DataFrame'>\n",
      "DatetimeIndex: 847329 entries, 2018-01-26 09:55:03 to 2021-04-21 16:44:39\n",
      "Data columns (total 9 columns):\n",
      " #   Column       Non-Null Count   Dtype  \n",
      "---  ------       --------------   -----  \n",
      " 0   path         847329 non-null  object \n",
      " 1   user_id      847329 non-null  int64  \n",
      " 2   cohort_name  847329 non-null  float64\n",
      " 3   ip           847329 non-null  object \n",
      " 4   name         847329 non-null  object \n",
      " 5   start_date   847329 non-null  object \n",
      " 6   end_date     847329 non-null  object \n",
      " 7   program_id   847329 non-null  int64  \n",
      " 8   lesson       847329 non-null  object \n",
      "dtypes: float64(1), int64(2), object(6)\n",
      "memory usage: 64.6+ MB\n"
     ]
    }
   ],
   "source": [
    "traf.info()"
   ]
  }
 ],
 "metadata": {
  "kernelspec": {
   "display_name": "Python 3 (ipykernel)",
   "language": "python",
   "name": "python3"
  },
  "language_info": {
   "codemirror_mode": {
    "name": "ipython",
    "version": 3
   },
   "file_extension": ".py",
   "mimetype": "text/x-python",
   "name": "python",
   "nbconvert_exporter": "python",
   "pygments_lexer": "ipython3",
   "version": "3.9.13"
  }
 },
 "nbformat": 4,
 "nbformat_minor": 5
}
